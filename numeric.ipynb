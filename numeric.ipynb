{
 "cells": [
  {
   "cell_type": "code",
   "execution_count": 2,
   "id": "bfa705dd",
   "metadata": {
    "scrolled": true
   },
   "outputs": [
    {
     "data": {
      "text/html": [
       "<div>\n",
       "<style scoped>\n",
       "    .dataframe tbody tr th:only-of-type {\n",
       "        vertical-align: middle;\n",
       "    }\n",
       "\n",
       "    .dataframe tbody tr th {\n",
       "        vertical-align: top;\n",
       "    }\n",
       "\n",
       "    .dataframe thead th {\n",
       "        text-align: right;\n",
       "    }\n",
       "</style>\n",
       "<table border=\"1\" class=\"dataframe\">\n",
       "  <thead>\n",
       "    <tr style=\"text-align: right;\">\n",
       "      <th></th>\n",
       "      <th>song_name</th>\n",
       "      <th>song_popularity</th>\n",
       "      <th>song_duration_ms</th>\n",
       "      <th>acousticness</th>\n",
       "      <th>danceability</th>\n",
       "      <th>energy</th>\n",
       "      <th>instrumentalness</th>\n",
       "      <th>key</th>\n",
       "      <th>liveness</th>\n",
       "      <th>loudness</th>\n",
       "      <th>audio_mode</th>\n",
       "      <th>speechiness</th>\n",
       "      <th>tempo</th>\n",
       "      <th>time_signature</th>\n",
       "      <th>audio_valence</th>\n",
       "    </tr>\n",
       "  </thead>\n",
       "  <tbody>\n",
       "    <tr>\n",
       "      <th>0</th>\n",
       "      <td>Boulevard of Broken Dreams</td>\n",
       "      <td>73</td>\n",
       "      <td>262333</td>\n",
       "      <td>0.005520</td>\n",
       "      <td>0.496</td>\n",
       "      <td>0.682</td>\n",
       "      <td>0.000029</td>\n",
       "      <td>8</td>\n",
       "      <td>0.0589</td>\n",
       "      <td>-4.095</td>\n",
       "      <td>1</td>\n",
       "      <td>0.0294</td>\n",
       "      <td>167.060</td>\n",
       "      <td>4</td>\n",
       "      <td>0.474</td>\n",
       "    </tr>\n",
       "    <tr>\n",
       "      <th>1</th>\n",
       "      <td>In The End</td>\n",
       "      <td>66</td>\n",
       "      <td>216933</td>\n",
       "      <td>0.010300</td>\n",
       "      <td>0.542</td>\n",
       "      <td>0.853</td>\n",
       "      <td>0.000000</td>\n",
       "      <td>3</td>\n",
       "      <td>0.1080</td>\n",
       "      <td>-6.407</td>\n",
       "      <td>0</td>\n",
       "      <td>0.0498</td>\n",
       "      <td>105.256</td>\n",
       "      <td>4</td>\n",
       "      <td>0.370</td>\n",
       "    </tr>\n",
       "    <tr>\n",
       "      <th>2</th>\n",
       "      <td>Seven Nation Army</td>\n",
       "      <td>76</td>\n",
       "      <td>231733</td>\n",
       "      <td>0.008170</td>\n",
       "      <td>0.737</td>\n",
       "      <td>0.463</td>\n",
       "      <td>0.447000</td>\n",
       "      <td>0</td>\n",
       "      <td>0.2550</td>\n",
       "      <td>-7.828</td>\n",
       "      <td>1</td>\n",
       "      <td>0.0792</td>\n",
       "      <td>123.881</td>\n",
       "      <td>4</td>\n",
       "      <td>0.324</td>\n",
       "    </tr>\n",
       "    <tr>\n",
       "      <th>3</th>\n",
       "      <td>By The Way</td>\n",
       "      <td>74</td>\n",
       "      <td>216933</td>\n",
       "      <td>0.026400</td>\n",
       "      <td>0.451</td>\n",
       "      <td>0.970</td>\n",
       "      <td>0.003550</td>\n",
       "      <td>0</td>\n",
       "      <td>0.1020</td>\n",
       "      <td>-4.938</td>\n",
       "      <td>1</td>\n",
       "      <td>0.1070</td>\n",
       "      <td>122.444</td>\n",
       "      <td>4</td>\n",
       "      <td>0.198</td>\n",
       "    </tr>\n",
       "    <tr>\n",
       "      <th>4</th>\n",
       "      <td>How You Remind Me</td>\n",
       "      <td>56</td>\n",
       "      <td>223826</td>\n",
       "      <td>0.000954</td>\n",
       "      <td>0.447</td>\n",
       "      <td>0.766</td>\n",
       "      <td>0.000000</td>\n",
       "      <td>10</td>\n",
       "      <td>0.1130</td>\n",
       "      <td>-5.065</td>\n",
       "      <td>1</td>\n",
       "      <td>0.0313</td>\n",
       "      <td>172.011</td>\n",
       "      <td>4</td>\n",
       "      <td>0.574</td>\n",
       "    </tr>\n",
       "    <tr>\n",
       "      <th>...</th>\n",
       "      <td>...</td>\n",
       "      <td>...</td>\n",
       "      <td>...</td>\n",
       "      <td>...</td>\n",
       "      <td>...</td>\n",
       "      <td>...</td>\n",
       "      <td>...</td>\n",
       "      <td>...</td>\n",
       "      <td>...</td>\n",
       "      <td>...</td>\n",
       "      <td>...</td>\n",
       "      <td>...</td>\n",
       "      <td>...</td>\n",
       "      <td>...</td>\n",
       "      <td>...</td>\n",
       "    </tr>\n",
       "    <tr>\n",
       "      <th>18830</th>\n",
       "      <td>Let It Breathe</td>\n",
       "      <td>60</td>\n",
       "      <td>159645</td>\n",
       "      <td>0.893000</td>\n",
       "      <td>0.500</td>\n",
       "      <td>0.151</td>\n",
       "      <td>0.000065</td>\n",
       "      <td>11</td>\n",
       "      <td>0.1110</td>\n",
       "      <td>-16.107</td>\n",
       "      <td>1</td>\n",
       "      <td>0.0348</td>\n",
       "      <td>113.969</td>\n",
       "      <td>4</td>\n",
       "      <td>0.300</td>\n",
       "    </tr>\n",
       "    <tr>\n",
       "      <th>18831</th>\n",
       "      <td>Answers</td>\n",
       "      <td>60</td>\n",
       "      <td>205666</td>\n",
       "      <td>0.765000</td>\n",
       "      <td>0.495</td>\n",
       "      <td>0.161</td>\n",
       "      <td>0.000001</td>\n",
       "      <td>11</td>\n",
       "      <td>0.1050</td>\n",
       "      <td>-14.078</td>\n",
       "      <td>0</td>\n",
       "      <td>0.0301</td>\n",
       "      <td>94.286</td>\n",
       "      <td>4</td>\n",
       "      <td>0.265</td>\n",
       "    </tr>\n",
       "    <tr>\n",
       "      <th>18832</th>\n",
       "      <td>Sudden Love (Acoustic)</td>\n",
       "      <td>23</td>\n",
       "      <td>182211</td>\n",
       "      <td>0.847000</td>\n",
       "      <td>0.719</td>\n",
       "      <td>0.325</td>\n",
       "      <td>0.000000</td>\n",
       "      <td>0</td>\n",
       "      <td>0.1250</td>\n",
       "      <td>-12.222</td>\n",
       "      <td>1</td>\n",
       "      <td>0.0355</td>\n",
       "      <td>130.534</td>\n",
       "      <td>4</td>\n",
       "      <td>0.286</td>\n",
       "    </tr>\n",
       "    <tr>\n",
       "      <th>18833</th>\n",
       "      <td>Gentle on My Mind</td>\n",
       "      <td>55</td>\n",
       "      <td>352280</td>\n",
       "      <td>0.945000</td>\n",
       "      <td>0.488</td>\n",
       "      <td>0.326</td>\n",
       "      <td>0.015700</td>\n",
       "      <td>3</td>\n",
       "      <td>0.1190</td>\n",
       "      <td>-12.020</td>\n",
       "      <td>1</td>\n",
       "      <td>0.0328</td>\n",
       "      <td>106.063</td>\n",
       "      <td>4</td>\n",
       "      <td>0.323</td>\n",
       "    </tr>\n",
       "    <tr>\n",
       "      <th>18834</th>\n",
       "      <td>Up to Me</td>\n",
       "      <td>60</td>\n",
       "      <td>193533</td>\n",
       "      <td>0.911000</td>\n",
       "      <td>0.640</td>\n",
       "      <td>0.381</td>\n",
       "      <td>0.000254</td>\n",
       "      <td>4</td>\n",
       "      <td>0.1040</td>\n",
       "      <td>-11.790</td>\n",
       "      <td>1</td>\n",
       "      <td>0.0302</td>\n",
       "      <td>91.490</td>\n",
       "      <td>4</td>\n",
       "      <td>0.581</td>\n",
       "    </tr>\n",
       "  </tbody>\n",
       "</table>\n",
       "<p>18835 rows × 15 columns</p>\n",
       "</div>"
      ],
      "text/plain": [
       "                        song_name  song_popularity  song_duration_ms  \\\n",
       "0      Boulevard of Broken Dreams               73            262333   \n",
       "1                      In The End               66            216933   \n",
       "2               Seven Nation Army               76            231733   \n",
       "3                      By The Way               74            216933   \n",
       "4               How You Remind Me               56            223826   \n",
       "...                           ...              ...               ...   \n",
       "18830              Let It Breathe               60            159645   \n",
       "18831                     Answers               60            205666   \n",
       "18832      Sudden Love (Acoustic)               23            182211   \n",
       "18833           Gentle on My Mind               55            352280   \n",
       "18834                    Up to Me               60            193533   \n",
       "\n",
       "       acousticness  danceability  energy  instrumentalness  key  liveness  \\\n",
       "0          0.005520         0.496   0.682          0.000029    8    0.0589   \n",
       "1          0.010300         0.542   0.853          0.000000    3    0.1080   \n",
       "2          0.008170         0.737   0.463          0.447000    0    0.2550   \n",
       "3          0.026400         0.451   0.970          0.003550    0    0.1020   \n",
       "4          0.000954         0.447   0.766          0.000000   10    0.1130   \n",
       "...             ...           ...     ...               ...  ...       ...   \n",
       "18830      0.893000         0.500   0.151          0.000065   11    0.1110   \n",
       "18831      0.765000         0.495   0.161          0.000001   11    0.1050   \n",
       "18832      0.847000         0.719   0.325          0.000000    0    0.1250   \n",
       "18833      0.945000         0.488   0.326          0.015700    3    0.1190   \n",
       "18834      0.911000         0.640   0.381          0.000254    4    0.1040   \n",
       "\n",
       "       loudness  audio_mode  speechiness    tempo  time_signature  \\\n",
       "0        -4.095           1       0.0294  167.060               4   \n",
       "1        -6.407           0       0.0498  105.256               4   \n",
       "2        -7.828           1       0.0792  123.881               4   \n",
       "3        -4.938           1       0.1070  122.444               4   \n",
       "4        -5.065           1       0.0313  172.011               4   \n",
       "...         ...         ...          ...      ...             ...   \n",
       "18830   -16.107           1       0.0348  113.969               4   \n",
       "18831   -14.078           0       0.0301   94.286               4   \n",
       "18832   -12.222           1       0.0355  130.534               4   \n",
       "18833   -12.020           1       0.0328  106.063               4   \n",
       "18834   -11.790           1       0.0302   91.490               4   \n",
       "\n",
       "       audio_valence  \n",
       "0              0.474  \n",
       "1              0.370  \n",
       "2              0.324  \n",
       "3              0.198  \n",
       "4              0.574  \n",
       "...              ...  \n",
       "18830          0.300  \n",
       "18831          0.265  \n",
       "18832          0.286  \n",
       "18833          0.323  \n",
       "18834          0.581  \n",
       "\n",
       "[18835 rows x 15 columns]"
      ]
     },
     "execution_count": 2,
     "metadata": {},
     "output_type": "execute_result"
    }
   ],
   "source": [
    "import pandas as pd\n",
    "#노래의 유행성\n",
    "df = pd.read_csv('./song_data.csv')\n",
    "df"
   ]
  },
  {
   "cell_type": "code",
   "execution_count": 8,
   "id": "ce9cb1be",
   "metadata": {},
   "outputs": [
    {
     "data": {
      "text/plain": [
       "(array([  2.,   0.,   0.,   7.,   8.,   8.,  14.,  18.,  20.,  33.,  45.,\n",
       "         49.,  71.,  86., 103., 124., 168., 193., 222., 264., 320., 337.,\n",
       "        427., 412., 564., 566., 636., 746., 846., 858., 848., 820., 938.,\n",
       "        935., 882., 954., 803., 913., 840., 626., 674., 574., 443., 385.,\n",
       "        335., 283., 189., 142.,  89.,  15.]),\n",
       " array([0.     , 0.01974, 0.03948, 0.05922, 0.07896, 0.0987 , 0.11844,\n",
       "        0.13818, 0.15792, 0.17766, 0.1974 , 0.21714, 0.23688, 0.25662,\n",
       "        0.27636, 0.2961 , 0.31584, 0.33558, 0.35532, 0.37506, 0.3948 ,\n",
       "        0.41454, 0.43428, 0.45402, 0.47376, 0.4935 , 0.51324, 0.53298,\n",
       "        0.55272, 0.57246, 0.5922 , 0.61194, 0.63168, 0.65142, 0.67116,\n",
       "        0.6909 , 0.71064, 0.73038, 0.75012, 0.76986, 0.7896 , 0.80934,\n",
       "        0.82908, 0.84882, 0.86856, 0.8883 , 0.90804, 0.92778, 0.94752,\n",
       "        0.96726, 0.987  ]),\n",
       " <BarContainer object of 50 artists>)"
      ]
     },
     "execution_count": 8,
     "metadata": {},
     "output_type": "execute_result"
    },
    {
     "data": {
      "image/png": "[encoded data removed]",
      "text/plain": [
       "<Figure size 640x480 with 1 Axes>"
      ]
     },
     "metadata": {},
     "output_type": "display_data"
    }
   ],
   "source": [
    "import matplotlib.pyplot as plt #시각화\n",
    "\n",
    "plt.hist(df['danceability'], 50, facecolor='b', alpha=0.75) #0.6평균으로 가짐\n",
    "#alpha 투명도\n",
    "#첫번째 arraysms 개수를 나타내줌"
   ]
  },
  {
   "cell_type": "code",
   "execution_count": 4,
   "id": "383a2286",
   "metadata": {},
   "outputs": [],
   "source": [
    "x = df[['song_duration_ms', 'acousticness', 'danceability']].to_numpy()"
   ]
  },
  {
   "cell_type": "code",
   "execution_count": 5,
   "id": "43e2b07e",
   "metadata": {},
   "outputs": [
    {
     "data": {
      "text/plain": [
       "array([[0.1400585 , 0.00554115, 0.50253293],\n",
       "       [0.11465771, 0.01034035, 0.5491388 ],\n",
       "       [0.12293814, 0.0082018 , 0.74670719],\n",
       "       ...,\n",
       "       [0.09523114, 0.85040145, 0.72847011],\n",
       "       [0.19038284, 0.94879513, 0.49442756],\n",
       "       [0.10156567, 0.91465855, 0.64842958]])"
      ]
     },
     "execution_count": 5,
     "metadata": {},
     "output_type": "execute_result"
    }
   ],
   "source": [
    "from sklearn.preprocessing import MinMaxScaler #pip 설치\n",
    "\n",
    "scaler = MinMaxScaler() #인스턴스로 가져오고\n",
    "scaler.fit(x) #fit함수로 fit가 학습하는 fit는 모듈 안에 내부 업데이트할 뿐 스케일링 해주지 않음 (내부 구조 어떻게 만들겠다.)\n",
    "y = scaler.transform(x) #변형해서 나오게 하는 것이 transform 다른 머신 러닝도 마찬가지 fit, transform\n",
    "y"
   ]
  },
  {
   "cell_type": "code",
   "execution_count": 6,
   "id": "db5ce3fc",
   "metadata": {},
   "outputs": [
    {
     "data": {
      "text/plain": [
       "array([[ 0.73675732, -0.87637397, -0.8763996 ],\n",
       "       [-0.02135038, -0.85981763, -0.58287978],\n",
       "       [ 0.22578605, -0.86719525,  0.66138905],\n",
       "       ...,\n",
       "       [-0.60115248,  2.03823368,  0.54653347],\n",
       "       [ 2.23872896,  2.37767318, -0.92744653],\n",
       "       [-0.41209311,  2.25990845,  0.04244507]])"
      ]
     },
     "execution_count": 6,
     "metadata": {},
     "output_type": "execute_result"
    }
   ],
   "source": [
    "from sklearn.preprocessing import StandardScaler\n",
    "\n",
    "scaler = StandardScaler() #얜 마이너스 값까지 나옴 스케일 규모 비슷하게 됨\n",
    "scaler.fit(x)\n",
    "y = scaler.transform(x)\n",
    "y"
   ]
  },
  {
   "cell_type": "code",
   "execution_count": 71,
   "id": "ab95b82a",
   "metadata": {},
   "outputs": [
    {
     "data": {
      "text/plain": [
       "(array([  2.,   0.,   0.,   7.,   8.,   8.,  14.,  18.,  20.,  33.,  45.,\n",
       "         49.,  71.,  86., 103., 124., 168., 193., 222., 264., 320., 337.,\n",
       "        427., 412., 564., 566., 636., 746., 846., 858., 848., 820., 938.,\n",
       "        935., 882., 954., 803., 913., 840., 626., 674., 574., 443., 385.,\n",
       "        335., 283., 189., 142.,  89.,  15.]),\n",
       " array([0.     , 0.01974, 0.03948, 0.05922, 0.07896, 0.0987 , 0.11844,\n",
       "        0.13818, 0.15792, 0.17766, 0.1974 , 0.21714, 0.23688, 0.25662,\n",
       "        0.27636, 0.2961 , 0.31584, 0.33558, 0.35532, 0.37506, 0.3948 ,\n",
       "        0.41454, 0.43428, 0.45402, 0.47376, 0.4935 , 0.51324, 0.53298,\n",
       "        0.55272, 0.57246, 0.5922 , 0.61194, 0.63168, 0.65142, 0.67116,\n",
       "        0.6909 , 0.71064, 0.73038, 0.75012, 0.76986, 0.7896 , 0.80934,\n",
       "        0.82908, 0.84882, 0.86856, 0.8883 , 0.90804, 0.92778, 0.94752,\n",
       "        0.96726, 0.987  ]),\n",
       " <BarContainer object of 50 artists>)"
      ]
     },
     "execution_count": 71,
     "metadata": {},
     "output_type": "execute_result"
    },
    {
     "data": {
      "image/png": "[encoded data removed]",
      "text/plain": [
       "<Figure size 640x480 with 1 Axes>"
      ]
     },
     "metadata": {},
     "output_type": "display_data"
    }
   ],
   "source": [
    "plt.hist(y[:,2], 50, facecolor='g', alpha=0.5)\n",
    "plt.hist(df['danceability'], 50, facecolor='b', alpha=0.75)\n"
   ]
  },
  {
   "cell_type": "code",
   "execution_count": 7,
   "id": "6f24b33a",
   "metadata": {},
   "outputs": [
    {
     "data": {
      "text/plain": [
       "array([[ 0.17284491, -0.35191342, -0.83865827, ..., -0.69651382,\n",
       "         1.60156497, -0.22061046],\n",
       "       [ 0.97155549, -0.3520461 , -0.4976395 , ..., -0.50106605,\n",
       "        -0.55085753, -0.64575064],\n",
       "       [-0.85006513,  1.66524095,  0.52333321, ..., -0.21939131,\n",
       "         0.09778769, -0.83379341],\n",
       "       ...,\n",
       "       [-1.49463858, -0.3520461 , -0.37956782, ..., -0.6380711 ,\n",
       "         0.32948899, -0.9891331 ],\n",
       "       [-1.48996776, -0.28119284, -0.42124018, ..., -0.66393919,\n",
       "        -0.52275247, -0.8378813 ],\n",
       "       [-1.23307255, -0.35089981, -0.52542107, ..., -0.6888492 ,\n",
       "        -1.03028036,  0.21679339]])"
      ]
     },
     "execution_count": 7,
     "metadata": {},
     "output_type": "execute_result"
    }
   ],
   "source": [
    "# energy, instrumentalness, liveness, loudness, speechiness, tempo, audio_valence 컬럼들을 한번에 StandardScaler 스케일\n",
    "z = df[['energy', 'instrumentalness', 'liveness', 'loudness', 'speechiness', 'tempo', 'audio_valence']].to_numpy()\n",
    "scaler = StandardScaler() #얜 마이너스 값까지 나옴 스케일 규모 비슷하게 됨\n",
    "scaler.fit(z)\n",
    "h = scaler.transform(z)\n",
    "h"
   ]
  },
  {
   "cell_type": "code",
   "execution_count": 9,
   "id": "73370a69",
   "metadata": {
    "scrolled": true
   },
   "outputs": [
    {
     "data": {
      "text/plain": [
       "array([[1.00000000e+00, 2.10419581e-08, 1.89072667e-06],\n",
       "       [1.00000000e+00, 4.74800975e-08, 2.49846727e-06],\n",
       "       [1.00000000e+00, 3.52560921e-08, 3.18038432e-06],\n",
       "       ...,\n",
       "       [1.00000000e+00, 4.64845701e-06, 3.94597472e-06],\n",
       "       [1.00000000e+00, 2.68252526e-06, 1.38526172e-06],\n",
       "       [1.00000000e+00, 4.70720756e-06, 3.30692957e-06]])"
      ]
     },
     "execution_count": 9,
     "metadata": {},
     "output_type": "execute_result"
    }
   ],
   "source": [
    "from sklearn.preprocessing import normalize #normalization 클래스 있어서 minmax처럼 인스턴스로 할 수 있음\n",
    "#이건 함수로 한 예제\n",
    "\n",
    "X_normalized = normalize(x, norm='l2')\n",
    "X_normalized\n",
    "\n",
    "#26만 0.005  0.4 이랬던 값이 1 2 1이런식으로 규모가 완만해짐"
   ]
  },
  {
   "cell_type": "code",
   "execution_count": 10,
   "id": "702a2ded",
   "metadata": {},
   "outputs": [
    {
     "data": {
      "text/plain": [
       "array([[0.00844742, 0.00010378, 0.00553926],\n",
       "       [0.00698549, 0.00019365, 0.00605298],\n",
       "       [0.00746206, 0.00015361, 0.00823072],\n",
       "       ...,\n",
       "       [0.0058674 , 0.01592467, 0.0080297 ],\n",
       "       [0.01134381, 0.0177672 , 0.00544992],\n",
       "       [0.00623198, 0.01712795, 0.00714743]])"
      ]
     },
     "execution_count": 10,
     "metadata": {},
     "output_type": "execute_result"
    }
   ],
   "source": [
    "X_normalized = normalize(x, norm='l2', axis = 0) \n",
    "X_normalized"
   ]
  },
  {
   "cell_type": "code",
   "execution_count": 11,
   "id": "05641cac",
   "metadata": {},
   "outputs": [
    {
     "data": {
      "text/plain": [
       "array([[0., 0.],\n",
       "       [1., 1.],\n",
       "       [2., 1.],\n",
       "       [3., 0.]])"
      ]
     },
     "execution_count": 11,
     "metadata": {},
     "output_type": "execute_result"
    }
   ],
   "source": [
    "from sklearn.preprocessing import OrdinalEncoder\n",
    "\n",
    "data = [['from Africa', 'female'], #데이터를 숫자로 만듦 얘도 0번축 하나의 컬럼 안에서\n",
    "        ['from Asia', 'male'],  #normalization만 1번 축\n",
    "        ['from Europe', 'male'], \n",
    "        ['from US', 'female']]\n",
    "\n",
    "enc = OrdinalEncoder()\n",
    "enc.fit(data)\n",
    "\n",
    "enc.transform(data)\n",
    "#one-hot으로 바꿔보자"
   ]
  },
  {
   "cell_type": "code",
   "execution_count": 12,
   "id": "096727ce",
   "metadata": {},
   "outputs": [],
   "source": [
    "x = df[['key',]].to_numpy() #다차원배열로 인식하고 가져오기에 거기에 맞게\n",
    "#다차원으로 가져와야"
   ]
  },
  {
   "cell_type": "code",
   "execution_count": 13,
   "id": "30083c56",
   "metadata": {},
   "outputs": [
    {
     "data": {
      "text/plain": [
       "array([[8.],\n",
       "       [3.],\n",
       "       [0.],\n",
       "       ...,\n",
       "       [0.],\n",
       "       [3.],\n",
       "       [4.]])"
      ]
     },
     "execution_count": 13,
     "metadata": {},
     "output_type": "execute_result"
    }
   ],
   "source": [
    "from sklearn.preprocessing import OrdinalEncoder\n",
    "\n",
    "enc = OrdinalEncoder()\n",
    "enc.fit(x)\n",
    "enc.transform(x)\n"
   ]
  },
  {
   "cell_type": "code",
   "execution_count": 14,
   "id": "d71f643a",
   "metadata": {},
   "outputs": [
    {
     "data": {
      "text/plain": [
       "array([[0., 0., 0., ..., 0., 0., 0.],\n",
       "       [0., 0., 0., ..., 0., 0., 0.],\n",
       "       [1., 0., 0., ..., 0., 0., 0.],\n",
       "       ...,\n",
       "       [1., 0., 0., ..., 0., 0., 0.],\n",
       "       [0., 0., 0., ..., 0., 0., 0.],\n",
       "       [0., 0., 0., ..., 0., 0., 0.]])"
      ]
     },
     "execution_count": 14,
     "metadata": {},
     "output_type": "execute_result"
    }
   ],
   "source": [
    "from sklearn.preprocessing import OneHotEncoder\n",
    "\n",
    "enc = OneHotEncoder() #11개의 배열\n",
    "enc.fit(x)\n",
    "\n",
    "enc.transform(x).toarray()"
   ]
  },
  {
   "cell_type": "code",
   "execution_count": 15,
   "id": "bc47c7aa",
   "metadata": {},
   "outputs": [
    {
     "data": {
      "text/plain": [
       "[array([ 0,  1,  2,  3,  4,  5,  6,  7,  8,  9, 10, 11], dtype=int64)]"
      ]
     },
     "execution_count": 15,
     "metadata": {},
     "output_type": "execute_result"
    }
   ],
   "source": [
    "enc.categories_"
   ]
  },
  {
   "cell_type": "code",
   "execution_count": 22,
   "id": "aacb66de",
   "metadata": {},
   "outputs": [
    {
     "data": {
      "text/plain": [
       "array([ 0.        ,  0.        ,  0.        , ..., -0.35667343,\n",
       "        0.769418  ,  0.13694446])"
      ]
     },
     "execution_count": 22,
     "metadata": {},
     "output_type": "execute_result"
    }
   ],
   "source": [
    "import numpy as np\n",
    "# 범주형 데이터를 전부 찾아 한번에 One-Hot 인코딩 진행 \n",
    "#ys=scale\n",
    "#ye=onehot\n",
    "#np.concatenate로 합치기\n",
    "#수치형 데이터는 연속적으로 값, 범주형 데이터는 데이터 하나가 딱 하나만 표현이 가능하는\n",
    "d=df[['key','audio_mode', 'time_signature']].to_numpy()\n",
    "m=df[['song_popularity','song_duration_ms', 'acousticness', 'danceability','energy','instrumentalness','liveness',loudness ]].to_numpy()\n",
    "ss=StandardScaler() \n",
    "ss.fit(d)\n",
    "ys = ss.transform(d)\n",
    "\n",
    "oh=OneHotEncoder()\n",
    "oh.fit(d)\n",
    "ye=oh.transform(d).toarray()\n"
   ]
  },
  {
   "cell_type": "code",
   "execution_count": 23,
   "id": "c72240de",
   "metadata": {},
   "outputs": [
    {
     "data": {
      "text/plain": [
       "array([[ 0.74998073,  0.769418  ,  0.13694446],\n",
       "       [-0.63333698, -1.29968366,  0.13694446],\n",
       "       [-1.4633276 ,  0.769418  ,  0.13694446],\n",
       "       ...,\n",
       "       [-1.4633276 ,  0.769418  ,  0.13694446],\n",
       "       [-0.63333698,  0.769418  ,  0.13694446],\n",
       "       [-0.35667343,  0.769418  ,  0.13694446]])"
      ]
     },
     "execution_count": 23,
     "metadata": {},
     "output_type": "execute_result"
    }
   ],
   "source": [
    "ys"
   ]
  },
  {
   "cell_type": "code",
   "execution_count": null,
   "id": "ef8d300d",
   "metadata": {},
   "outputs": [],
   "source": [
    "ys.shape  #데이터의 개수, 컬럼의 개수"
   ]
  },
  {
   "cell_type": "code",
   "execution_count": 24,
   "id": "b153dd62",
   "metadata": {},
   "outputs": [
    {
     "data": {
      "text/plain": [
       "array([[0., 0., 0., ..., 0., 1., 0.],\n",
       "       [0., 0., 0., ..., 0., 1., 0.],\n",
       "       [1., 0., 0., ..., 0., 1., 0.],\n",
       "       ...,\n",
       "       [1., 0., 0., ..., 0., 1., 0.],\n",
       "       [0., 0., 0., ..., 0., 1., 0.],\n",
       "       [0., 0., 0., ..., 0., 1., 0.]])"
      ]
     },
     "execution_count": 24,
     "metadata": {},
     "output_type": "execute_result"
    }
   ],
   "source": [
    "ye"
   ]
  },
  {
   "cell_type": "code",
   "execution_count": 42,
   "id": "49c93c91",
   "metadata": {},
   "outputs": [
    {
     "data": {
      "text/plain": [
       "(18835, 19)"
      ]
     },
     "execution_count": 42,
     "metadata": {},
     "output_type": "execute_result"
    }
   ],
   "source": [
    "ye.shape"
   ]
  },
  {
   "cell_type": "code",
   "execution_count": 44,
   "id": "23ed329a",
   "metadata": {},
   "outputs": [
    {
     "data": {
      "text/plain": [
       "array([0., 0., 0., 0., 0., 0., 0., 0., 1., 0., 0., 0., 0., 1., 0., 0., 0.,\n",
       "       1., 0.])"
      ]
     },
     "execution_count": 44,
     "metadata": {},
     "output_type": "execute_result"
    }
   ],
   "source": [
    "ye[0] #18835개 중 하나 "
   ]
  },
  {
   "cell_type": "code",
   "execution_count": 43,
   "id": "26b6cd47",
   "metadata": {},
   "outputs": [
    {
     "data": {
      "text/plain": [
       "[array([ 0,  1,  2,  3,  4,  5,  6,  7,  8,  9, 10, 11], dtype=int64),\n",
       " array([0, 1], dtype=int64),\n",
       " array([0, 1, 3, 4, 5], dtype=int64)]"
      ]
     },
     "execution_count": 43,
     "metadata": {},
     "output_type": "execute_result"
    }
   ],
   "source": [
    "oh.categories_ #총 19개"
   ]
  },
  {
   "cell_type": "code",
   "execution_count": 26,
   "id": "8bef2242",
   "metadata": {},
   "outputs": [
    {
     "data": {
      "text/plain": [
       "array([[ 0.        ,  0.        ,  0.        , ...,  0.74998073,\n",
       "         0.769418  ,  0.13694446],\n",
       "       [ 0.        ,  0.        ,  0.        , ..., -0.63333698,\n",
       "        -1.29968366,  0.13694446],\n",
       "       [ 1.        ,  0.        ,  0.        , ..., -1.4633276 ,\n",
       "         0.769418  ,  0.13694446],\n",
       "       ...,\n",
       "       [ 1.        ,  0.        ,  0.        , ..., -1.4633276 ,\n",
       "         0.769418  ,  0.13694446],\n",
       "       [ 0.        ,  0.        ,  0.        , ..., -0.63333698,\n",
       "         0.769418  ,  0.13694446],\n",
       "       [ 0.        ,  0.        ,  0.        , ..., -0.35667343,\n",
       "         0.769418  ,  0.13694446]])"
      ]
     },
     "execution_count": 26,
     "metadata": {},
     "output_type": "execute_result"
    }
   ],
   "source": [
    "np.concatenate((ye, ys), axis=1) #7이랑 19가 합쳐져야\n",
    "#row값은 18800으로 동일하고 column만 7, 19 \n",
    "#그려면 합져서 row 18800 column 26"
   ]
  },
  {
   "cell_type": "code",
   "execution_count": null,
   "id": "73ec313a",
   "metadata": {},
   "outputs": [],
   "source": []
  },
  {
   "cell_type": "code",
   "execution_count": null,
   "id": "15cc5130",
   "metadata": {},
   "outputs": [],
   "source": [
    "df.info()"
   ]
  }
 ],
 "metadata": {
  "kernelspec": {
   "display_name": "Python 3 (ipykernel)",
   "language": "python",
   "name": "python3"
  },
  "language_info": {
   "codemirror_mode": {
    "name": "ipython",
    "version": 3
   },
   "file_extension": ".py",
   "mimetype": "text/x-python",
   "name": "python",
   "nbconvert_exporter": "python",
   "pygments_lexer": "ipython3",
   "version": "3.10.8"
  }
 },
 "nbformat": 4,
 "nbformat_minor": 5
}
